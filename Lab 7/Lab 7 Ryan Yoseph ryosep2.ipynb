{
 "cells": [
  {
   "cell_type": "markdown",
   "metadata": {},
   "source": [
    "# Lab 7: Introduction to Markov chains and random graphs"
   ]
  },
  {
   "cell_type": "markdown",
   "metadata": {},
   "source": [
    "In this lab we will be looking at Markov Processes.  Below is the code to import the modules we will be using throughout this lab."
   ]
  },
  {
   "cell_type": "code",
   "execution_count": 1,
   "metadata": {},
   "outputs": [
    {
     "name": "stdout",
     "output_type": "stream",
     "text": [
      "Modules Imported!\n"
     ]
    }
   ],
   "source": [
    "%matplotlib inline\n",
    "import matplotlib.pyplot as plt\n",
    "import matplotlib.image as img\n",
    "import numpy as np\n",
    "import scipy as sp\n",
    "import scipy.stats as st\n",
    "import pickle as pkl\n",
    "import csv as csv\n",
    "import networkx as nx  # If using your own computer may need to install networkx \n",
    "print (\"Modules Imported!\")"
   ]
  },
  {
   "cell_type": "markdown",
   "metadata": {},
   "source": [
    "## Introduction to Markov Chains:"
   ]
  },
  {
   "cell_type": "markdown",
   "metadata": {},
   "source": [
    "A Markov chain $(X[t]: t\\geq 0)$ is a sequence of random variables such that the distribution of each variable is determined by the random variable before it.  Equivalently, it is a sequence of states visited by a form of finite state machine with random transitions.  To describe how to generate the chain we specify the initial probability distribution $\\pi_0$ and a one-step transition probability matrix $P$.   We assume there is a finite state space described by {0,1,, . . . , $n-1$} for some $n$.  The intial distribution, $\\pi(0)$, should be a probability vector (nonnegative entries with sum equal to one) of length $n$.   It consists of the probability the process is in a given state at time zero: ${\\pi_i(0)} = P\\{X[0]=i\\}$ for $0\\leq i \\leq n-1.$    The matrix $P$ is an $n\\times n$ matrix such that each row of the matrix is a probability vector.   If the state of the Markov chain at time $t-1$ is $i$ (in other words, if $X[t-1]=i$), then the (conditional) probability distribution of $X[t]$, the state at time $t$, is given by the ith row of $P.$ Additionally, we can look at the individual entries: $p_{ij}=P\\left\\{X[t]=j \\; \\big| \\; X[t-1]=i\\right\\}$.  Below is a class that can be used to create a Markov chain.  An object in this class is created with specified values of $\\pi_0$ and $P$, and can be used to calculate the state distribution at any time or to generate a sample path (i.e. a variate of the sequence of states) of the Markov chain.  \n",
    "\n",
    "The state distributions are determined recursively as follows.  If $$\\pi_i(t)=P\\{X[t]=i\\}$$ then by the law of total probability, $$\\pi_j(t)= P\\{X[t]=j\\}=\\sum_i P\\{X[t-1]=i,X[t]=j\\} =\\sum_i \\pi_i(t-1)p_{i,j}$$  That is, if we view $\\pi(t)$ as a row vector for all $t,$ then $\\pi(t)=\\pi(t-1)P,$  where we have used multiplication of a row vector by a matrix.  (A nice introduction to Markov chains is given on wikipedia.)"
   ]
  },
  {
   "cell_type": "code",
   "execution_count": 252,
   "metadata": {},
   "outputs": [
    {
     "name": "stdout",
     "output_type": "stream",
     "text": [
      "Simulated state sequence\n",
      "[1 1 1 1 0 0 0 0 0 0 0 0 0 0 0 0 0 0 1 0 1 1 1 1 1 1 1 1 1 1 1 1 0 0 0 0 0\n",
      " 0 0 0 0 0 0 0 0 0 0 0 0 0 0 0 0 0 0 0 0 0 0 0 0 0 0 0 0 0 0 0 0 0 0 0 0 0\n",
      " 0 1 1 1 1 0 0 0 0 0 0 0 0 0 1 1 1 1 1 0 0 0 0 0 0 0]\n",
      "Distribution at time 0 : [0.1 0.9]\n",
      "Distribution at time 1 : [0.18 0.82]\n",
      "Distribution at time 2 : [0.244 0.756]\n",
      "Distribution at time 3 : [0.2952 0.7048]\n",
      "Distribution at time 4 : [0.33616 0.66384]\n",
      "Distribution at time 5 : [0.368928 0.631072]\n",
      "Distribution at time 6 : [0.3951424 0.6048576]\n",
      "Distribution at time 7 : [0.41611392 0.58388608]\n",
      "Distribution at time 8 : [0.43289114 0.56710886]\n",
      "Distribution at time 9 : [0.44631291 0.55368709]\n",
      "Distribution at time 10 : [0.45705033 0.54294967]\n",
      "Distribution at time 11 : [0.46564026 0.53435974]\n",
      "Distribution at time 12 : [0.47251221 0.52748779]\n",
      "Distribution at time 13 : [0.47800977 0.52199023]\n",
      "Distribution at time 14 : [0.48240781 0.51759219]\n",
      "Distribution at time 15 : [0.48592625 0.51407375]\n",
      "Distribution at time 16 : [0.488741 0.511259]\n",
      "Distribution at time 17 : [0.4909928 0.5090072]\n",
      "Distribution at time 18 : [0.49279424 0.50720576]\n",
      "Distribution at time 19 : [0.49423539 0.50576461]\n"
     ]
    }
   ],
   "source": [
    "# Markov chain object similar to random variable objects in scipy.stats (st)\n",
    "\n",
    "class Markov_chain:\n",
    "    def __init__(self, P, pi0):   # The transition probability matrix and initial distribution are passed\n",
    "        self.P = P \n",
    "        self.pi0 = pi0\n",
    "        self.n=np.size(pi0)\n",
    "        if np.shape(P) != (self.n,self.n):\n",
    "            print (\"Error: Shape of P doesn't match pi0\")\n",
    "   \n",
    "    def rvs(self,T):     # produce a length T segment of variates of the random process\n",
    "        X = [np.random.choice(self.n, p=self.pi0)]\n",
    "        for t in range(1,T):\n",
    "            X.append(np.random.choice(self.n, p=self.P[X[t-1],:]))\n",
    "        return np.array(X)\n",
    "    \n",
    "    def pi(self,t):    # produce probability distribution at time t\n",
    "        pi_new=self.pi0\n",
    "        for s in range(t):\n",
    "            pi_new = np.dot(pi_new, P)    # one step update of probability distribution\n",
    "        return pi_new\n",
    "\n",
    "# An example of how you can use the class to create and run through a simple two state chain\n",
    "P=np.array([[0.9,0.1],[0.1,0.9]])\n",
    "pi0=np.array([0.1,0.9])\n",
    "print ('Simulated state sequence')\n",
    "markov=Markov_chain(P,pi0)  \n",
    "print (markov.rvs(100))\n",
    "for t in range(20):\n",
    "    print (\"Distribution at time\", t, \":\", markov.pi(t))"
   ]
  },
  {
   "cell_type": "markdown",
   "metadata": {},
   "source": [
    "We won't go into this deeply, but notice how as the distributions change in time, they appear to be converging. For some Markov chains, there exists a limit for the distribution. If this occurs then the limit distribution $\\pi$ satisfies $\\pi = \\pi P$ and $\\pi$ is called an *equilibrium distribution.*\n",
    "\n",
    "<br>**<SPAN style=\"BACKGROUND-COLOR: #C0C0C0\">Problem 1:</SPAN>** Imagine that the states {0, . . . , n-1} of a particular Markov chain are the nodes of a ring graph, with state 0 following state n-1.   Create a Markov_chain object for n=6 with inital state 0 (so x[0]=0 with probability one) with the following transition probabilities:  given X[t-1]=i, X[t] is equal to i with probability 0.8 and to i+1 (modulo n) with probability 0.2.\n",
    "<ol>\n",
    "<li> Print the first 100 states for a simulation of the chain.</li>\n",
    "<li> Simulate the chain for 10,000 time units, and calculate the number of complete revolutions the chain makes around the ring, divided by 10,000.  This is an estimate of the long term cycle rate for the Markov chain.  Repeat the experiment ten times to get an idea of the variation from one experiment to the next.</li>\n",
    "<li> Give an analytical argument for what the long term cycle rate for this Makov chain should be.</li>"
   ]
  },
  {
   "cell_type": "code",
   "execution_count": 253,
   "metadata": {},
   "outputs": [
    {
     "name": "stdout",
     "output_type": "stream",
     "text": [
      "Simulated state sequence\n",
      "[0 0 1 1 1 1 1 1 1 2 2 2 2 2 2 3 3 3 3 3 4 4 4 4 5 0 0 0 1 2 2 2 3 3 3 3 3\n",
      " 3 3 3 3 3 4 5 5 5 5 5 5 5 5 5 5 5 0 1 2 2 2 2 3 3 3 3 3 3 4 4 4 4 4 5 5 5\n",
      " 5 5 0 0 0 0 0 0 0 0 0 1 2 2 2 2 2 2 2 2 3 3 3 3 3 3]\n",
      "\n",
      "The long term cycle rates for 100 generations of this Markov Chain are: [0.0332, 0.0325, 0.0327, 0.0322, 0.0331, 0.0323, 0.034, 0.0337, 0.0335, 0.0333, 0.0337, 0.0327, 0.0335, 0.0336, 0.0316, 0.033, 0.0344, 0.0324, 0.0332, 0.033, 0.0328, 0.0334, 0.0331, 0.0339, 0.0344, 0.0335, 0.0341, 0.0327, 0.0327, 0.032, 0.0328, 0.0339, 0.0332, 0.0339, 0.0337, 0.033, 0.0324, 0.0336, 0.0325, 0.0332, 0.0332, 0.0343, 0.0335, 0.0323, 0.0332, 0.0329, 0.033, 0.0331, 0.0334, 0.0332, 0.0332, 0.0341, 0.0336, 0.0322, 0.0336, 0.0318, 0.033, 0.0327, 0.0338, 0.0323, 0.0339, 0.0329, 0.033, 0.0336, 0.0347, 0.0325, 0.033, 0.0335, 0.0327, 0.033, 0.033, 0.0331, 0.0322, 0.0341, 0.0333, 0.0333, 0.0327, 0.0328, 0.0335, 0.0328, 0.0346, 0.033, 0.0337, 0.033, 0.0344, 0.0343, 0.0336, 0.0343, 0.0336, 0.0333, 0.0335, 0.0322, 0.0337, 0.0339, 0.0335, 0.0328, 0.0336, 0.0332, 0.0342, 0.0327]\n",
      "\n",
      "The average of the rates found is: 0.033235\n"
     ]
    }
   ],
   "source": [
    "# Your code here\n",
    "# PART 1\n",
    "pi0=np.array([1.0,0,0,0,0,0])\n",
    "P =np.array([[0.8,0.2,0,0,0,0],[0,0.8,0.2,0,0,0],[0,0,0.8,0.2,0,0],\n",
    "             [0,0,0,0.8,0.2,0],[0,0,0,0,0.8,0.2],[0.2,0,0,0,0,0.8]])\n",
    "\n",
    "print ('Simulated state sequence')\n",
    "markov=Markov_chain(P,pi0)\n",
    "print (markov.rvs(100))\n",
    "\n",
    "# PART 2\n",
    "T = 10000 # set length of chain\n",
    "gens = 100 # set the number of generations you would like to simulate \n",
    "rev_counter=[] # initialize revolution counter\n",
    "for i in range(gens):\n",
    "    markov_T = markov.rvs(T)\n",
    "    counter = 0\n",
    "    for t in range(T):\n",
    "        if t == 0:\n",
    "            continue\n",
    "        elif markov_T[t] == 0 and markov_T[t-1] == 5:\n",
    "            counter+=1\n",
    "    longterm_cycle_rate = counter/T\n",
    "    rev_counter.append(longterm_cycle_rate)\n",
    "\n",
    "print('\\nThe long term cycle rates for',gens,'generations of this Markov Chain are:',rev_counter)\n",
    "print('\\nThe average of the rates found is:',round(np.sum(rev_counter)/gens,6))"
   ]
  },
  {
   "cell_type": "markdown",
   "metadata": {},
   "source": [
    "__Answer:__ I believe that the long term cycle rate of this Markov Chain should be $\\frac1{30}$ based on the output of the previous cell. I ran my code for 100 generations instead of 10 and noticed that the average long term cycling rate for this Markov chain approaches $\\frac1{30}$. "
   ]
  },
  {
   "cell_type": "markdown",
   "metadata": {},
   "source": [
    "**<SPAN style=\"BACKGROUND-COLOR: #C0C0C0\">End of Problem 1</SPAN>**"
   ]
  },
  {
   "cell_type": "markdown",
   "metadata": {},
   "source": [
    "## Markov Gibberish"
   ]
  },
  {
   "cell_type": "markdown",
   "metadata": {},
   "source": [
    "Let's look at some applications of a Markov Chain. When I was younger I remember using AIM (instant messenger) to talk to my friends. At some point people started to create bots which could hold conversations with users. Of course we had fun trying to get them to say things that didn't make sense, but the idea that it could generate somewhat relevant conversations was pretty cool. We're going to build a rudimentary version of that here. The code below generates text based on a large sample text, such that each word is generated based on the two words just before it.  The generated sequence of words is given by a 2-Markov chain (here \"2\" means that the distribution of the value of each word is determined by the two previous words, instead of just the one previous word).  That means that any three consecutive words in the generated text are also consecutive words somewhere in the sample text.   If words w1 w2 were the last two words added to the generated text string, then to generate the next word we look for all occurrences of w1 w2 as consecutive words in the sample text, and see what word was just after them for each occurrence.   The randomly generated text selects the next word to match one of those occurrences, selected at random with equal probability."
   ]
  },
  {
   "cell_type": "code",
   "execution_count": 254,
   "metadata": {},
   "outputs": [
    {
     "data": {
      "text/plain": [
       "'to bed when it comes to the club, and I over\\'eard \\'im plotting to put dear Motty with me, I come within a week. Till then Tootles can stop with Mr. Bickersteth and yourself has, unfortunately, not answered entirely satisfactorily, sir.\" \"Surely the duke believes that Mr. Thistleton was soon going to be wading into the luny-bin, you simply explain that, when you may be stored, may contain \"Defects,\" such as, but not bright.\" \"All right, Jeeves.\" I said it was supposed that he had slit the waistcoat up the gangway. \"Halloa, George!\" I said. It flashed across me that this was'"
      ]
     },
     "execution_count": 254,
     "metadata": {},
     "output_type": "execute_result"
    }
   ],
   "source": [
    "# Based on http://agiliq.com/blog/2009/06/generating-pseudo-random-text-with-markov-chains-u/    --BH\n",
    "# Next word of random string is selected from possible word that follow the last two words.\n",
    "\n",
    "\n",
    "class Markov_text2:\n",
    "    def __init__(self, open_file):   # The single parameter passed is a file handle\n",
    "        self.cache = {}  # Will be dictionary mapping a key (two consecutive words) to possible next word\n",
    "        self.open_file = open_file\n",
    "        self.words = self.file_to_words()  # Read the words from the file into array self.words\n",
    "        self.word_size = len(self.words)\n",
    "        self.database()   # Fill in the dictionary\n",
    "       \n",
    "       \n",
    "    def file_to_words(self):\n",
    "        self.open_file.seek(0)\n",
    "        data = self.open_file.read()\n",
    "        words = data.split()\n",
    "        return words\n",
    "           \n",
    "       \n",
    "    def triples(self):\n",
    "    #Generates triples from the given data string. So if our string were\n",
    "    # \"What a lovely day\", we'd generate (What, a, lovely) and then (a, lovely, day).\"\"\"\n",
    "           \n",
    "        if self.word_size < 3:\n",
    "            return\n",
    "         \n",
    "        for i in range(self.word_size - 2):\n",
    "            yield (self.words[i], self.words[i+1], self.words[i+2])    #Like return but returns a generator to be used once\n",
    "               \n",
    "    def database(self):\n",
    "        for w1, w2, w3 in self.triples():\n",
    "            key = (w1, w2)\n",
    "            if key in self.cache:\n",
    "                self.cache[key].append(w3)\n",
    "            else:\n",
    "                self.cache[key] = [w3]\n",
    "                         \n",
    "    def generate_markov_text(self, size=100):\n",
    "        seed = np.random.randint(0, self.word_size-3)\n",
    "        w1, w2 = self.words[seed], self.words[seed+1]  # Initial key is (w1,w2)\n",
    "        gen_words = [w1,w2]\n",
    "        for i in range(size):\n",
    "            w1, w2 = w2, np.random.choice(self.cache[(w1, w2)])\n",
    "            gen_words.append(w2)\n",
    "        return ' '.join(gen_words)\n",
    "                \n",
    "        \n",
    "        \n",
    "file_ = open('Jeeves.txt')\n",
    "markov = Markov_text2(file_)   # Creates the object markov using the file\n",
    "markov.generate_markov_text()   # Generate random text\n",
    "\n",
    "# The above has a slight bug.   It is possible for the key to be the\n",
    "# last two words in the text file and have no entry in the dictionary.\n",
    "# This won't happen if the last two words in the text file appear\n",
    "# consecutively somewhere else in the file.   -BH"
   ]
  },
  {
   "cell_type": "code",
   "execution_count": 255,
   "metadata": {},
   "outputs": [
    {
     "data": {
      "text/plain": [
       "'him a pipe and nearly ran his grace in all there.\" He seemed to come back. My next morning, and they fetch you want to give it seemed to such a way. \"He will not drive chappies in that Mr. George Lattaker?\" \"Yes,\" I think you\\'re a bit. \"He\\'s right! Jeeves, she said. \"Buck along, laddie.\" I should love dadda?\\' isn\\'t she?\" \"Certainly she looked at the result that kid\\'s uncle could turn in a hole, Bertie. I took another Classical picture. It was up on the money for rich uncle at me. Young man, perfectly topping! I called some things?\"'"
      ]
     },
     "execution_count": 255,
     "metadata": {},
     "output_type": "execute_result"
    }
   ],
   "source": [
    "# Based on http://agiliq.com/blog/2009/06/generating-pseudo-random-text-with-markov-chains-u/    --BH\n",
    "# Next word of random string is selected from possible word that follow the last two words.\n",
    "\n",
    "\n",
    "class Markov_text1:\n",
    "    def __init__(self, open_file):   # The single parameter passed is a file handle\n",
    "        self.cache = {}  # Will be dictionary mapping a key (two consecutive words) to possible next word\n",
    "        self.open_file = open_file\n",
    "        self.words = self.file_to_words()  # Read the words from the file into array self.words\n",
    "        self.word_size = len(self.words)\n",
    "        self.database()   # Fill in the dictionary\n",
    "       \n",
    "       \n",
    "    def file_to_words(self):\n",
    "        self.open_file.seek(0)\n",
    "        data = self.open_file.read()\n",
    "        words = data.split()\n",
    "        return words\n",
    "           \n",
    "       \n",
    "    def singles(self):\n",
    "    #Generates doubles from the given data string. So if our string were\n",
    "    # \"A lovely day\", we'd generate (A, lovely) and then (lovely, day)\"\"\"\n",
    "           \n",
    "        if self.word_size < 2:\n",
    "            return\n",
    "         \n",
    "        for i in range(self.word_size - 1):\n",
    "            yield (self.words[i], self.words[i+1])    #Like return but returns a generator to be used once\n",
    "               \n",
    "    def database(self):\n",
    "        for w1, w2 in self.singles():\n",
    "            key = (w1)\n",
    "            if key in self.cache:\n",
    "                self.cache[key].append(w2)\n",
    "            else:\n",
    "                self.cache[key] = [w2]\n",
    "                         \n",
    "    def generate_markov_text(self, size=100):\n",
    "        seed = np.random.randint(0, self.word_size-2)\n",
    "        w1= self.words[seed] # Initial key is (w1)\n",
    "        gen_words = [w1]\n",
    "        for i in range(size):\n",
    "            w1 = np.random.choice(self.cache[(w1)])\n",
    "            gen_words.append(w1)\n",
    "        return ' '.join(gen_words)\n",
    "                \n",
    "        \n",
    "        \n",
    "file_ = open('Jeeves.txt')\n",
    "markov = Markov_text1(file_)   # Creates the object markov using the file\n",
    "markov.generate_markov_text()   # Generate random text\n",
    "\n",
    "# The above has a slight bug.   It is possible for the key to be the\n",
    "# last two words in the text file and have no entry in the dictionary.\n",
    "# This won't happen if the last two words in the text file appear\n",
    "# consecutively somewhere else in the file.   -BH"
   ]
  },
  {
   "cell_type": "code",
   "execution_count": 256,
   "metadata": {},
   "outputs": [
    {
     "data": {
      "text/plain": [
       "'look of relief came into the poor chappie\\'s sorrow. Besides, I\\'m bound to say I didn\\'t get this for a moment. \"Look out for a chance to breathe. I haven\\'t breathed since half-past seven. Thank Heaven, Jeeves managed to get out and buy me a collar that fitted, or I should be wanting to go back to your room.\" It sounded simple enough. \"And as to the picture itself--when I\\'ve got it?\" \"Burn it. I\\'ll see that you have a brother Alfred.\" \"And Alfred will be there to back you up that you have reached your twenty-fifth birthday. You have doubtless heard your'"
      ]
     },
     "execution_count": 256,
     "metadata": {},
     "output_type": "execute_result"
    }
   ],
   "source": [
    "# Based on http://agiliq.com/blog/2009/06/generating-pseudo-random-text-with-markov-chains-u/    --BH\n",
    "# Next word of random string is selected from possible word that follow the last two words.\n",
    "\n",
    "\n",
    "class Markov_text3:\n",
    "    def __init__(self, open_file):   # The single parameter passed is a file handle\n",
    "        self.cache = {}  # Will be dictionary mapping a key (two consecutive words) to possible next word\n",
    "        self.open_file = open_file\n",
    "        self.words = self.file_to_words()  # Read the words from the file into array self.words\n",
    "        self.word_size = len(self.words)\n",
    "        self.database()   # Fill in the dictionary\n",
    "       \n",
    "       \n",
    "    def file_to_words(self):\n",
    "        self.open_file.seek(0)\n",
    "        data = self.open_file.read()\n",
    "        words = data.split()\n",
    "        return words\n",
    "           \n",
    "       \n",
    "    def quadruples(self):\n",
    "    #Generates triples from the given data string. So if our string were\n",
    "    # \"What a lovely day it is\", we'd generate (What, a, lovely, day) and then (a, lovely, day, it).\"\"\"\n",
    "           \n",
    "        if self.word_size < 4:\n",
    "            return\n",
    "         \n",
    "        for i in range(self.word_size - 3):\n",
    "            yield (self.words[i], self.words[i+1], self.words[i+2], self.words[i+3])    #Like return but returns a generator to be used once\n",
    "               \n",
    "    def database(self):\n",
    "        for w1, w2, w3, w4 in self.quadruples():\n",
    "            key = (w1, w2, w3)\n",
    "            if key in self.cache:\n",
    "                self.cache[key].append(w4)\n",
    "            else:\n",
    "                self.cache[key] = [w4]\n",
    "                         \n",
    "    def generate_markov_text(self, size=100):\n",
    "        seed = np.random.randint(0, self.word_size-4)\n",
    "        w1, w2, w3 = self.words[seed], self.words[seed+1], self.words[seed+2]  # Initial key is (w1,w2,w3)\n",
    "        gen_words = [w1,w2,w3]\n",
    "        for i in range(size):\n",
    "            w1, w2, w3 = w2, w3, np.random.choice(self.cache[(w1, w2, w3)])\n",
    "            gen_words.append(w3)\n",
    "        return ' '.join(gen_words)\n",
    "                \n",
    "        \n",
    "        \n",
    "file_ = open('Jeeves.txt')\n",
    "markov = Markov_text3(file_)   # Creates the object markov using the file\n",
    "markov.generate_markov_text()   # Generate random text\n",
    "\n",
    "# The above has a slight bug.   It is possible for the key to be the\n",
    "# last two words in the text file and have no entry in the dictionary.\n",
    "# This won't happen if the last two words in the text file appear\n",
    "# consecutively somewhere else in the file.   -BH"
   ]
  },
  {
   "cell_type": "markdown",
   "metadata": {},
   "source": [
    "With punctuation and everything, this initially looks like a bit of a mess. However, the sentences themselves are coming together and can make a little bit of sense. It is a very primitive version of those bots on instant messaging.\n",
    "\n",
    "<br>**<SPAN style=\"BACKGROUND-COLOR: #C0C0C0\">Problem 2:</SPAN>** Using the class above, do the following:\n",
    "<ol><li> Find your own text file or copy and paste from somewhere and use the text to create gibberish from that. To work well, your file really needs to contain a large amount of text. The \"Jeeves\" file was pulled from a short story. Print out your own 100 word gibberish paragraph based on the text file you used.</li>\n",
    "<li> Rewrite the code to create a 1-Markov Chain of the words instead of the 2-Markov Chain given above. Print out your own 100 word gibberish paragraph from this.</li>\n",
    "<li> Rewrite the code to create a 3-Markov Chain of the words instead of the 2-Markov Chain given above. Print out your own 100 word gibberish paragraph from this.</li>\n",
    "<li> Comment on the qualitative differences of your paragraphs using these methods.</li>"
   ]
  },
  {
   "cell_type": "code",
   "execution_count": 257,
   "metadata": {},
   "outputs": [
    {
     "data": {
      "text/plain": [
       "'all his bodily peculiarities as distinguished from other tribes of his were at times you do ? \" cried another of the Grand Jury.\\' And with that, Peleg hurried him over the bulwarks ; and .only by inference is it you stare at ? Those chaps in yonder boat ? \\' turning to me. It was a reality or a foot too narrow, and the Unicorn whale. He is mostly found in the wind for Tahiti, five hundred gold coins for the bottom of the main. But no longer to retreat, bethinking him of courting notoriety by any eyes not permitted to'"
      ]
     },
     "execution_count": 257,
     "metadata": {},
     "output_type": "execute_result"
    }
   ],
   "source": [
    "# Your code here (add additional code cells if necessary)\n",
    "# PART 1\n",
    "file_ = open('mobydick.txt')  \n",
    "markov = Markov_text2(file_)   # Creates the object markov using the file\n",
    "markov.generate_markov_text()   # Generate random text"
   ]
  },
  {
   "cell_type": "code",
   "execution_count": 258,
   "metadata": {},
   "outputs": [
    {
     "data": {
      "text/plain": [
       "\"adhering to it, faintly representing the character of this effeminacy is in patent chairs. And when I must only a pig to tell Quohog to solace to her. So down here was almost solely consists in any other leviathans of waves had concluded by which had been still molest the sea as he was used by its way distinguished from other means of the most gamesome and English. Though, upon it. First Congregational Church/ cried the voyage. Or at the continual sight ! Let me a laugh ? ' Depend upon the Pequod sharply bowed to God, contenting himself made no\""
      ]
     },
     "execution_count": 258,
     "metadata": {},
     "output_type": "execute_result"
    }
   ],
   "source": [
    "# PART 2 (1-Markov Chain of the words instad of the 2-Markov Chain)\n",
    "file_ = open('mobydick.txt')  \n",
    "markov = Markov_text1(file_)   # Creates the object markov using the file\n",
    "markov.generate_markov_text()   # Generate random text"
   ]
  },
  {
   "cell_type": "code",
   "execution_count": 259,
   "metadata": {},
   "outputs": [
    {
     "data": {
      "text/plain": [
       "'clothes, lighted his pipe, and leaning against the spiles ; some seated upon the pier-heads ; some looking over Vhe bulwarks of ships from China ; some high aloft in the cross-trees was that mad Gay-Header, Tashtego. His body was reaching eagerly forward, his hand stretched out like a wand, and at brief sudden intervals he continued his cries. To be sure, it might be said, only arises from the fair estimation of the encountered peril, but that an utterly fearless man is a far more barbaric, heathenish, and motley set than any of the tame merchant-ship companies which 151 152 MOBY-DICK my'"
      ]
     },
     "execution_count": 259,
     "metadata": {},
     "output_type": "execute_result"
    }
   ],
   "source": [
    "# PART 3 (3-Markov Chain of the words intead of the 2-Markov Chain)\n",
    "file_ = open('mobydick.txt')  \n",
    "markov = Markov_text3(file_)   # Creates the object markov using the file\n",
    "markov.generate_markov_text()   # Generate random text"
   ]
  },
  {
   "cell_type": "markdown",
   "metadata": {},
   "source": [
    "__Answer:__ The difference between these three cases of Markov chains is very obvious. \n",
    "\n",
    "When we compare the 1-Markov Chain to the 2-Markov Chain, the 1-Markov Chain looks like absolute gibberish in every sense of the word. Nothing is coherent about the sentence structure and it seems like an 8 year old wrote it. Furthermore, when we compare the 3-Markov Chain text with the 2-Markov Chain text, using 3 previous words as a key instead of 2 previous words improves our sentence structure and makes it look like the text was literally drawn from the book. Now Moby Dick is already confusing, and even though the Markov Chain using 3 previous words still does not paint a vivid picture, it does the job a lot better than the other two cases.\n",
    "\n",
    "In sum, it looks like the general pattern of Markov Gibberish is that when we increase the number of previous words that play a role in the creation of the next word, the accuracy of our automated texts increases. However, there must certaintly be some sort of saturation point. For example, say after looking at the previous 5 words, the accuracy of your bot's next word is relatively constant. "
   ]
  },
  {
   "cell_type": "markdown",
   "metadata": {},
   "source": [
    "**<SPAN style=\"BACKGROUND-COLOR: #C0C0C0\">End of Problem 2</SPAN>**"
   ]
  },
  {
   "cell_type": "markdown",
   "metadata": {},
   "source": [
    "## Random Graphs and Working with Graphs"
   ]
  },
  {
   "cell_type": "markdown",
   "metadata": {},
   "source": [
    "Markov chains that are time independent and finite can be represented really well by graphs. I'm sure you've used finite state machines to describe processes or sequences in some of your other classes. They can also be useful in analyzing or describing networks. Networkx is an extensive Python package for generating and analyzing graphs (the kind with nodes and edges) and can also plot them.  The following code adapted from the networkx webpage generates a random undirected graph by placing nodes at random locations within the unit square and connecting nodes together if their distance is less than a specified threshold."
   ]
  },
  {
   "cell_type": "code",
   "execution_count": 260,
   "metadata": {},
   "outputs": [
    {
     "name": "stdout",
     "output_type": "stream",
     "text": [
      "The center node is located at: 0.5493080066521077 , 0.48814766947569166\n",
      "The graph is not connected\n"
     ]
    },
    {
     "data": {
      "image/png": "[encoded data removed]",
      "text/plain": [
       "<Figure size 576x576 with 1 Axes>"
      ]
     },
     "metadata": {},
     "output_type": "display_data"
    }
   ],
   "source": [
    "#import networkx as nx  DEBUGGING\n",
    "\n",
    "d=0.16 # distance threshold, pairs of nodes within distance d are connected by an edge\n",
    "G=nx.random_geometric_graph(100,d)  #100 nodes in unit square, distance threshold d\n",
    "# position is stored as node attribute data for random_geometric_graph\n",
    "pos=nx.get_node_attributes(G,'pos')  # pos is a dictionary, with the indices as keys, ranging from 0 to 99\n",
    "\n",
    "# find node nearest to (0.5,0.5), called the center node\n",
    "dmin=1\n",
    "ncenter=0\n",
    "for n in pos:\n",
    "    x,y=pos[n]\n",
    "    d=(x-0.5)**2+(y-0.5)**2\n",
    "    if d<dmin:\n",
    "        ncenter=n\n",
    "        dmin=d\n",
    "\n",
    "print ('The center node is located at:', pos[ncenter][0], ',', pos[ncenter][1])\n",
    "# color by path length from node near center\n",
    "p=nx.single_source_shortest_path_length(G,ncenter)  #p is dictionary: keys are nodes, values are distances to center\n",
    "                                                    #Node not connected to the center node are not listed in p.\n",
    "                                                    # p include the center node itself.\n",
    "\n",
    "\n",
    "if nx.is_connected(G):   # The Networkx method is_connected checks for connectness\n",
    "    print (\"The graph is connected\")\n",
    "else: print (\"The graph is not connected\")\n",
    "\n",
    "plt.figure(figsize=(8,8))\n",
    "#nx.draw_networkx_edges(G,pos,nodelist=[ncenter],alpha=0.4)  #All edges are drwn\n",
    "nx.draw_networkx_edges(G,pos,alpha=0.4)  #All edges are drwn\n",
    "nx.draw_networkx_nodes(G,pos,alpha=0.3,node_size=80)  #All nodes are drawn but nearly transparent\n",
    "nx.draw_networkx_nodes(G,pos,nodelist=p.keys(),   # Nodes connected to center node are drawn, closer nodes have darker color\n",
    "                       node_size=80)\n",
    "\n",
    "plt.xlim(-0.05,1.05)\n",
    "plt.ylim(-0.05,1.05)\n",
    "plt.axis('off')\n",
    "plt.savefig('random_geometric_graph.png')\n",
    "plt.show()"
   ]
  },
  {
   "cell_type": "markdown",
   "metadata": {},
   "source": [
    "Excellent documentation for NetworkX is available online (search for NetworkX documentation). We find a plethora of classes for generating both undirected graphs (no arrows on the edges) and directed graphs.   Run the code in the above cell a few dozen times, and see how often the graph generated is *connected*, meaning that there is a path through the graph from any node to any other node.   One way a graph could be not connnected is to have an isolated node, which is a node with no neighbors.   Also, try changing the value of the threshold d and seeing the effect on connectivity.\n",
    "\n",
    "<br>**<SPAN style=\"BACKGROUND-COLOR: #C0C0C0\">Problem 3:</SPAN>**   Estimate the probability of connectivity for the above model (100 nodes at random locations in unit square with edges between pairs of nodes at distance d or smaller) for values of d in 0.10, 0.11, . . . , 0.20 by generating 1000 instances for each d and seeing the fraction of them that are connected. Is there a sort of threshold where the odds of a connected graph jumps significantly?"
   ]
  },
  {
   "cell_type": "code",
   "execution_count": 261,
   "metadata": {},
   "outputs": [
    {
     "name": "stdout",
     "output_type": "stream",
     "text": [
      "{0.1: 0.0, 0.11: 0.0, 0.12: 0.002, 0.13: 0.02, 0.14: 0.122, 0.15: 0.313, 0.16: 0.498, 0.17: 0.678, 0.18: 0.789, 0.19: 0.901, 0.2: 0.928}\n"
     ]
    }
   ],
   "source": [
    "# Your code here\n",
    "# Initialization \n",
    "list_d = [0.10+0.01*d for d in range(0,11)]\n",
    "list_d = list(np.around(np.array(list_d),2))\n",
    "\n",
    "num_nodes = 100\n",
    "instances = 1000\n",
    "gbl_counter = []\n",
    "\n",
    "# For loop to iterate through all d values 1000 (number of instances) number of times\n",
    "for d in list_d:\n",
    "    counter = 0\n",
    "    for inst in range(instances):\n",
    "        G=nx.random_geometric_graph(num_nodes,d)\n",
    "        if nx.is_connected(G):\n",
    "            counter+=1\n",
    "    gbl_counter.append(counter/instances)\n",
    "            \n",
    "graph_connectedness = {key: gbl_counter[index] for index,key in enumerate(list_d)}\n",
    "print(graph_connectedness)"
   ]
  },
  {
   "cell_type": "markdown",
   "metadata": {},
   "source": [
    "__Answer:__ \n",
    "\n",
    "It looks like when the threshold distance,d, goes from 0.15 to 0.16, the probability jumps ~20%, the most substantial jump in probability within the entire list."
   ]
  },
  {
   "cell_type": "markdown",
   "metadata": {},
   "source": [
    "**<SPAN style=\"BACKGROUND-COLOR: #C0C0C0\">End of Problem 3</SPAN>**"
   ]
  },
  {
   "cell_type": "markdown",
   "metadata": {},
   "source": [
    "The probability of connectivity can be approximately computed analytically as follows.  You might have noticed in the simulations that the main cause of disconnectivity is having at least one isolated node (no neighbors).\n",
    "\n",
    "<br>**<SPAN style=\"BACKGROUND-COLOR: #C0C0C0\">Problem 4:</SPAN>**   Consider the same model.  Imagine that 100 nodes, numbered from 1 to 100, are independently placed in the unit square with a uniform distribution for each node, and then edges are placed between pairs of nodes at distance d or smaller.  Except for the second half of the fourth part below, your answers should be an expression involving $d.$   No computation is required.\n",
    "<ol><li> Focus on node 1. Suppose for simplicity it is not near the boundary of the square, so the entire disk of radius $d$ around the node is in the square.   What is the probability that a given other node (say, node 2) is *not* within distance $d$ of node 1?\n",
    "<li>  What is the probability node 1 is isolated (i.e. *none* of the other nodes is within distance $d$ of node 1)?\n",
    "<li>  What is the expected number of isolated nodes?\n",
    "<li>  Assume (this is a reasonable approximation) the total number of isolated nodes has the Poisson distribution with mean given by the answer to the previous problem part.   What is the probability that there are no isolated nodes?\n",
    "Compute the numerical values for  d in 0.10, 0.11, . . . , 0.20 and compare to the estimated probability the\n",
    "graph is connected in Problem 3. </ol>"
   ]
  },
  {
   "cell_type": "markdown",
   "metadata": {
    "collapsed": true
   },
   "source": [
    "__Answer:__ \n",
    "\n",
    "1. Each node is independently placed in the unit square with a uniform distribution for each node. The area of the state space is $1 unit^2$ and the area that node n+1 must be in is $A = πd^2\\ units^2$ so that it will be connected to the $nth$ node. Dividing the area of the disk of radius d by the area of the state space yields the area of the disk of radius d. Therefore, the probability that a given other node is not within distance d of node 1 is:\n",
    "\n",
    "P{Node n is not connected to Node n-1} = $$1 - \\pi d^2$$\n",
    "\n",
    "2. The answer to this problem is simply the probability formula calculated above to the power of how many nodes we are placing in our unit square. Therefore, the probability that node 1 is isolated from all other 99 nodes is:\n",
    "\n",
    "P{Node n is not connected to all other Nodes} = $$(1 - \\pi d^2)^{n-1}$$\n",
    "\n",
    "3. $$E[X] = n(1-\\pi*d^2)^{n-1}$$\n",
    "\n",
    "\n",
    "4. $p(k) = \\frac{e^{-\\lambda}*\\lambda^k}{k!} $ and $ E[X]=\\lambda$. Substituting and simplifying gives \n",
    "$p(k = 0) = e^{-n(1-\\pi*d^2)^{n-1}}$\n",
    "\n",
    "    When we use the Poisson distribution to model whether or not our graph will be connected depending on certain values of d, the Poisson distribution overestimates the probability of connectedness. It is not until we get into the upper part of list_d when the probabilities start to match up better"
   ]
  },
  {
   "cell_type": "code",
   "execution_count": 262,
   "metadata": {},
   "outputs": [
    {
     "name": "stdout",
     "output_type": "stream",
     "text": [
      "The probability that our graph is connected when d= 0.1 using the Poisson distribution is: 0.014375382556273152 \n",
      "\n",
      "The empirical probability is:\n",
      "0.0\n",
      "The probability that our graph is connected when d= 0.11 using the Poisson distribution is: 0.11573548129613277 \n",
      "\n",
      "The empirical probability is:\n",
      "0.0\n",
      "The probability that our graph is connected when d= 0.12 using the Poisson distribution is: 0.35976906692722066 \n",
      "\n",
      "The empirical probability is:\n",
      "0.002\n",
      "The probability that our graph is connected when d= 0.13 using the Poisson distribution is: 0.6368236824267614 \n",
      "\n",
      "The empirical probability is:\n",
      "0.02\n",
      "The probability that our graph is connected when d= 0.14 using the Poisson distribution is: 0.8309712238173423 \n",
      "\n",
      "The empirical probability is:\n",
      "0.122\n",
      "The probability that our graph is connected when d= 0.15 using the Poisson distribution is: 0.9319422565913525 \n",
      "\n",
      "The empirical probability is:\n",
      "0.313\n",
      "The probability that our graph is connected when d= 0.16 using the Poisson distribution is: 0.9754666715905875 \n",
      "\n",
      "The empirical probability is:\n",
      "0.498\n",
      "The probability that our graph is connected when d= 0.17 using the Poisson distribution is: 0.9919479603219504 \n",
      "\n",
      "The empirical probability is:\n",
      "0.678\n",
      "The probability that our graph is connected when d= 0.18 using the Poisson distribution is: 0.9975789752005879 \n",
      "\n",
      "The empirical probability is:\n",
      "0.789\n",
      "The probability that our graph is connected when d= 0.19 using the Poisson distribution is: 0.999332667029149 \n",
      "\n",
      "The empirical probability is:\n",
      "0.901\n",
      "The probability that our graph is connected when d= 0.2 using the Poisson distribution is: 0.9998316800547294 \n",
      "\n",
      "The empirical probability is:\n",
      "0.928\n"
     ]
    }
   ],
   "source": [
    "# Your code here (if necessary)\n",
    "n = 100\n",
    "p_k_equals_zero = [np.exp(-n*(1-np.pi*(d**2))**(n-1)) for d in list_d]\n",
    "\n",
    "for index,d in enumerate(list_d):\n",
    "    print('The probability that our graph is connected when d=',d,'using the Poisson distribution is:',p_k_equals_zero[index],'\\n')\n",
    "    print('The empirical probability is:\\n'+str(graph_connectedness[d]))"
   ]
  },
  {
   "cell_type": "markdown",
   "metadata": {},
   "source": [
    "**<SPAN style=\"BACKGROUND-COLOR: #C0C0C0\">End of Problem 4</SPAN>**"
   ]
  },
  {
   "cell_type": "markdown",
   "metadata": {},
   "source": [
    "## Lab Questions:"
   ]
  },
  {
   "cell_type": "markdown",
   "metadata": {},
   "source": [
    "Make sure to complete all lab questions 1-4 for this weeks lab."
   ]
  },
  {
   "cell_type": "markdown",
   "metadata": {},
   "source": [
    "<div class=\"alert alert-block alert-warning\"> \n",
    "## Academic Integrity Statement ##\n",
    "\n",
    "By submitting the lab with this statement, you declare you have written up the lab entirely by yourself, including both code and markdown cells. You also agree that you should not share your code with anyone else. Any violation of the academic integrity requirement may cause an academic integrity report to be filed that could go into your student record. See <a href=\"https://provost.illinois.edu/policies/policies/academic-integrity/students-quick-reference-guide-to-academic-integrity/\">Students' Quick Reference Guide to Academic Integrity</a> for more information. "
   ]
  }
 ],
 "metadata": {
  "anaconda-cloud": {},
  "kernelspec": {
   "display_name": "Python 3",
   "language": "python",
   "name": "python3"
  },
  "language_info": {
   "codemirror_mode": {
    "name": "ipython",
    "version": 3
   },
   "file_extension": ".py",
   "mimetype": "text/x-python",
   "name": "python",
   "nbconvert_exporter": "python",
   "pygments_lexer": "ipython3",
   "version": "3.7.3"
  }
 },
 "nbformat": 4,
 "nbformat_minor": 1
}
